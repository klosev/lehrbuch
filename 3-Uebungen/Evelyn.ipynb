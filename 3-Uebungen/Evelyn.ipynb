{
 "cells": [
  {
   "cell_type": "markdown",
   "metadata": {},
   "source": [
    "# Übung zu ggplot und ggplot2"
   ]
  },
  {
   "cell_type": "markdown",
   "metadata": {},
   "source": [
    "### Aufgabe 1"
   ]
  },
  {
   "cell_type": "markdown",
   "metadata": {},
   "source": [
    "Bestimmen Sie die Angabe der zu verwendenden Variablen für die Achsen über die aes()-Funktion auf mindestens 3 verschiedene Arten. <br>\n",
    "Jeweils für ggplot und ggplot2."
   ]
  },
  {
   "cell_type": "markdown",
   "metadata": {},
   "source": [
    "### Aufgabe 2"
   ]
  },
  {
   "cell_type": "markdown",
   "metadata": {},
   "source": [
    "Erstellen Sie einen Boxplot in Python und R für 'cut' und 'price' des Datensatzes 'diamonds'. Geben Sie hierbei auch eine eigene Achsenbeschriftung und einen Titel an."
   ]
  },
  {
   "cell_type": "markdown",
   "metadata": {},
   "source": [
    "### Aufgabe 3"
   ]
  },
  {
   "cell_type": "markdown",
   "metadata": {},
   "source": [
    "Veränderen Sie die Ausgabe der Legende in R, so dass diese unterhalb der Grafik angezeigt wird. Hierfür kann diese Grafik verwendet werden:\n",
    "\n",
    "```R\n",
    "ggplot(diamonds, aes(x=carat, y=price, colour=color)) +\n",
    "            geom_point()\n",
    "```\n",
    "Tipp: Schauen Sie sich hierfür sie theme()-Option an."
   ]
  },
  {
   "cell_type": "markdown",
   "metadata": {},
   "source": [
    "### Aufgabe 4"
   ]
  },
  {
   "cell_type": "markdown",
   "metadata": {},
   "source": [
    "1. Bestimmen Sie einen Scatterplot in Python und R für 'price' und 'carat' und klassifizieren Sie dabei nach der Variable 'cut', auf jeweils zwei verschiedene Arten. Welche Art der Klassifizierung macht am meisten Sinn?\n",
    "\n",
    "2. Verbinden Sie zwei der Klassifiezierungsmöglichkeiten, was kommt dabei heraus? Gibt es hierbei einen Unterschied zwischen Python und R?\n",
    "\n",
    "3. Wie kann diese Klassifizierung etwas übersichtlicher dargestellt werden, so dass man sich die Klassen einzeln genauer betrachten kann?"
   ]
  },
  {
   "cell_type": "code",
   "execution_count": null,
   "metadata": {
    "collapsed": true
   },
   "outputs": [],
   "source": []
  }
 ],
 "metadata": {
  "kernelspec": {
   "display_name": "R",
   "language": "R",
   "name": "ir"
  },
  "language_info": {
   "codemirror_mode": "r",
   "file_extension": ".r",
   "mimetype": "text/x-r-source",
   "name": "R",
   "pygments_lexer": "r",
   "version": "3.3.2"
  }
 },
 "nbformat": 4,
 "nbformat_minor": 2
}
